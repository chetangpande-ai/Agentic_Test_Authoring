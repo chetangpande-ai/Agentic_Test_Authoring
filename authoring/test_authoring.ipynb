{
 "cells": [
  {
   "cell_type": "markdown",
   "id": "30c02cd7",
   "metadata": {},
   "source": [
    "# Test Authoring \n",
    "- analysis requiremetn\n",
    "- generate test script"
   ]
  },
  {
   "cell_type": "code",
   "execution_count": 39,
   "id": "48720faa",
   "metadata": {},
   "outputs": [],
   "source": [
    "from langchain_google_genai import ChatGoogleGenerativeAI\n",
    "model=ChatGoogleGenerativeAI(model=\"gemini-2.5-flash\")"
   ]
  },
  {
   "cell_type": "code",
   "execution_count": 40,
   "id": "cfe5b960",
   "metadata": {},
   "outputs": [],
   "source": [
    "from langchain_huggingface import HuggingFaceEmbeddings\n",
    "\n",
    "embeddings=HuggingFaceEmbeddings(model_name=\"BAAI/bge-large-en-v1.5\")"
   ]
  },
  {
   "cell_type": "code",
   "execution_count": 41,
   "id": "487dbef9",
   "metadata": {},
   "outputs": [],
   "source": [
    "from langchain_community.document_loaders import TextLoader, DirectoryLoader\n",
    "from langchain_community.vectorstores import Chroma\n",
    "from langchain.text_splitter import RecursiveCharacterTextSplitter"
   ]
  },
  {
   "cell_type": "code",
   "execution_count": 57,
   "id": "d0afe873",
   "metadata": {},
   "outputs": [],
   "source": [
    "loader=DirectoryLoader(\"./data\",glob=\"./*.txt\",loader_cls=TextLoader)\n",
    "docs=loader.load()\n",
    "text_splitter=RecursiveCharacterTextSplitter(\n",
    "chunk_size=500,\n",
    "chunk_overlap=50\n",
    ")\n",
    "\n",
    "new_docs=text_splitter.split_documents(documents=docs)"
   ]
  },
  {
   "cell_type": "code",
   "execution_count": 58,
   "id": "e62486b5",
   "metadata": {},
   "outputs": [
    {
     "data": {
      "text/plain": [
       "[Document(metadata={'source': 'data\\\\API.txt'}, page_content='package com.automation.library;\\nimport io.restassured.RestAssured;\\nimport io.restassured.response.Response;\\nimport io.restassured.specification.RequestSpecification;\\nimport java.util.Map;\\n\\npublic class ApiClient {\\n\\n    private String baseUrl;\\n    private RequestSpecification request;'),\n",
       " Document(metadata={'source': 'data\\\\API.txt'}, page_content='/**\\n     * Constructor to initialize base URL\\n     * @param baseUrl API base URL\\n     */\\n    public ApiClient(String baseUrl) {\\n        this.baseUrl = baseUrl;\\n        this.request = RestAssured.given().baseUri(baseUrl);\\n    }\\n\\n    /**\\n     * Set common headers for API calls\\n     * @param headers Map of headers\\n     * @return ApiClient instance\\n     */\\n    public ApiClient setHeaders(Map<String, String> headers) {\\n        request.headers(headers);\\n        return this;\\n    }'),\n",
       " Document(metadata={'source': 'data\\\\API.txt'}, page_content='/**\\n     * Set request body\\n     * @param body Request payload (JSON String / Object)\\n     * @return ApiClient instance\\n     */\\n    public ApiClient setBody(Object body) {\\n        request.body(body);\\n        return this;\\n    }'),\n",
       " Document(metadata={'source': 'data\\\\API.txt'}, page_content='/**\\n     * GET Request\\n     * @param endpoint API endpoint\\n     * @param queryParams Map of query parameters\\n     * @return Response\\n     */\\n    public Response get(String endpoint, Map<String, String> queryParams) {\\n        return request.queryParams(queryParams).when().get(endpoint).then().extract().response();\\n    }'),\n",
       " Document(metadata={'source': 'data\\\\API.txt'}, page_content='/**\\n     * POST Request\\n     * @param endpoint API endpoint\\n     * @return Response\\n     */\\n    public Response post(String endpoint) {\\n        return request.when().post(endpoint).then().extract().response();\\n    }\\n\\n    /**\\n     * PUT Request\\n     * @param endpoint API endpoint\\n     * @return Response\\n     */\\n    public Response put(String endpoint) {\\n        return request.when().put(endpoint).then().extract().response();\\n    }'),\n",
       " Document(metadata={'source': 'data\\\\API.txt'}, page_content='/**\\n     * PATCH (Update) Request\\n     * @param endpoint API endpoint\\n     * @return Response\\n     */\\n    public Response patch(String endpoint) {\\n        return request.when().patch(endpoint).then().extract().response();\\n    }\\n\\n    /**\\n     * DELETE Request\\n     * @param endpoint API endpoint\\n     * @return Response\\n     */\\n    public Response delete(String endpoint) {\\n        return request.when().delete(endpoint).then().extract().response();\\n    }'),\n",
       " Document(metadata={'source': 'data\\\\API.txt'}, page_content='/**\\n     * Reset RequestSpecification to clear old data\\n     */\\n    public void resetRequest() {\\n        this.request = RestAssured.given().baseUri(baseUrl);\\n    }'),\n",
       " Document(metadata={'source': 'data\\\\API.txt'}, page_content='/**\\n* Create JSON payload dynamically\\n* @param keyValuePairs Map of key-value pairs\\n* @return JSON string payload\\n*/\\npublic String createJsonPayload(Map<String, Object> keyValuePairs) {\\nStringBuilder payload = new StringBuilder(\"{\");\\nkeyValuePairs.forEach((key, value) -> {\\npayload.append(\"\\\\\"\").append(key).append(\"\\\\\":\");\\nif (value instanceof String) {\\npayload.append(\"\\\\\"\").append(value).append(\"\\\\\"\");\\n} else {\\npayload.append(value);\\n}\\npayload.append(\",\");\\n});'),\n",
       " Document(metadata={'source': 'data\\\\API.txt'}, page_content='payload.append(value);\\n}\\npayload.append(\",\");\\n});\\nif (payload.charAt(payload.length() - 1) == \\',\\') {\\npayload.deleteCharAt(payload.length() - 1);\\n}\\npayload.append(\"}\");\\nreturn payload.toString();\\n}'),\n",
       " Document(metadata={'source': 'data\\\\API.txt'}, page_content='/**\\n* Validate response body against JSON schema\\n* @param response API Response\\n* @param schemaPath Path to JSON schema file\\n* @return true if validation passes, false otherwise\\n*/\\npublic boolean validateJsonSchema(Response response, String schemaPath) {\\ntry {\\nresponse.then().assertThat().body(JsonSchemaValidator.matchesJsonSchemaInClasspath(schemaPath));\\nreturn true;\\n} catch (AssertionError e) {\\nreturn false;\\n}\\n}'),\n",
       " Document(metadata={'source': 'data\\\\API.txt'}, page_content='/**\\n* Validate response contains expected key-value pair\\n* @param response API Response\\n* @param key JSON field key\\n* @param expectedValue Expected value of the key\\n* @return true if match found, false otherwise\\n*/\\npublic boolean validateResponseField(Response response, String key, Object expectedValue) {\\nObject actualValue = response.jsonPath().get(key);\\nreturn expectedValue.equals(actualValue);\\n}\\n}')]"
      ]
     },
     "execution_count": 58,
     "metadata": {},
     "output_type": "execute_result"
    }
   ],
   "source": [
    "new_docs"
   ]
  },
  {
   "cell_type": "code",
   "execution_count": 59,
   "id": "8768b54d",
   "metadata": {},
   "outputs": [],
   "source": [
    "doc_string=[doc.page_content for doc in new_docs]\n",
    "db=Chroma.from_documents(new_docs,embeddings)"
   ]
  },
  {
   "cell_type": "code",
   "execution_count": 62,
   "id": "88c68f03",
   "metadata": {},
   "outputs": [],
   "source": [
    "retriever=db.as_retriever(search_kwargs={\"k\": 3})"
   ]
  },
  {
   "cell_type": "code",
   "execution_count": 64,
   "id": "8e6bf424",
   "metadata": {},
   "outputs": [
    {
     "data": {
      "text/plain": [
       "[Document(metadata={'source': 'data\\\\API.txt'}, page_content='package com.automation.library;\\nimport io.restassured.RestAssured;\\nimport io.restassured.response.Response;\\nimport io.restassured.specification.RequestSpecification;\\nimport java.util.Map;\\n\\npublic class ApiClient {\\n\\n    private String baseUrl;\\n    private RequestSpecification request;'),\n",
       " Document(metadata={'source': 'data\\\\API.txt'}, page_content='Object actualValue = response.jsonPath().get(key);\\nreturn expectedValue.equals(actualValue);\\n}\\n}'),\n",
       " Document(metadata={'source': 'data\\\\API.txt'}, page_content='Object actualValue = response.jsonPath().get(key);\\nreturn expectedValue.equals(actualValue);\\n}\\n}')]"
      ]
     },
     "execution_count": 64,
     "metadata": {},
     "output_type": "execute_result"
    }
   ],
   "source": [
    "retriever.invoke(\"create API Test for endpoint https://api.restful-api.dev/objects, its GET call. validate status code as 200\")"
   ]
  },
  {
   "cell_type": "markdown",
   "id": "e1085cdb",
   "metadata": {},
   "source": [
    "[Document(metadata={'source': 'data\\\\API.txt'}, page_content='package com.automation.library;\\nimport io.restassured.RestAssured;\\nimport io.restassured.response.Response;\\nimport io.restassured.specification.RequestSpecification;\\nimport java.util.Map;\\n\\npublic class ApiClient {\\n\\n    private String baseUrl;\\n    private RequestSpecification request;'),\n",
    " Document(metadata={'source': 'data\\\\API.txt'}, page_content='Object actualValue = response.jsonPath().get(key);\\nreturn expectedValue.equals(actualValue);\\n}\\n}'),\n",
    " Document(metadata={'source': 'data\\\\API.txt'}, page_content='Object actualValue = response.jsonPath().get(key);\\nreturn expectedValue.equals(actualValue);\\n}\\n}')]"
   ]
  },
  {
   "cell_type": "code",
   "execution_count": 55,
   "id": "0c4280e3",
   "metadata": {},
   "outputs": [
    {
     "name": "stdout",
     "output_type": "stream",
     "text": [
      "[HumanMessagePromptTemplate(prompt=PromptTemplate(input_variables=['context', 'question'], input_types={}, partial_variables={}, template=\"You are an assistant for question-answering tasks. Use the following pieces of retrieved context to answer the question. If you don't know the answer, just say that you don't know. Use three sentences maximum and keep the answer concise.\\nQuestion: {question} \\nContext: {context} \\nAnswer:\"), additional_kwargs={})]\n"
     ]
    }
   ],
   "source": [
    "from langchain import hub\n",
    "import pprint\n",
    "\n",
    "prompt = hub.pull(\"rlm/rag-prompt\")\n",
    "prompt.messages\n",
    "pprint.pprint(prompt.messages)\n"
   ]
  },
  {
   "cell_type": "code",
   "execution_count": 69,
   "id": "a1a905d1",
   "metadata": {},
   "outputs": [],
   "source": [
    "from langchain_core.prompts import ChatPromptTemplate\n",
    "\n",
    "custom_prompt = ChatPromptTemplate.from_messages([\n",
    "    (\"system\", \"You are an expert Test Automation Engineer. You role is to create API Test scripts in Java language based on the reference methods mentioned in  ApiClient class  reusable methods. \"\n",
    "    \"DO not create pom.xml and associated dependencies and the base APIClient library\"\n",
    "    \"Do not create any verbose/text as output\"\n",
    "    \"Create modular script as per the details given by user \"),\n",
    "    (\"user\", \"Context:\\n{context}\\n\\nQuestion:\\n{question}\")\n",
    "])"
   ]
  },
  {
   "cell_type": "code",
   "execution_count": 70,
   "id": "97865e64",
   "metadata": {},
   "outputs": [],
   "source": [
    "# Chain\n",
    "from langchain_core.runnables import RunnablePassthrough\n",
    "from langchain_core.output_parsers import StrOutputParser\n",
    "\n",
    "def format_docs(docs):\n",
    "    return \"\\n\\n\".join(doc.page_content for doc in docs)\n",
    "\n",
    "rag_chain = (\n",
    "    {\"context\": retriever | format_docs, \"question\": RunnablePassthrough()}\n",
    "    | custom_prompt\n",
    "    | model\n",
    "    | StrOutputParser()\n",
    ")"
   ]
  },
  {
   "cell_type": "code",
   "execution_count": 71,
   "id": "ec81c3b5",
   "metadata": {},
   "outputs": [],
   "source": [
    "result=rag_chain.invoke(\"Create API Test, for endpoint https://api.restful-api.dev/objects,  Operation is GET call. Validate status code as 200\")"
   ]
  },
  {
   "cell_type": "code",
   "execution_count": 72,
   "id": "9497012f",
   "metadata": {},
   "outputs": [
    {
     "name": "stdout",
     "output_type": "stream",
     "text": [
      "('```java\\n'\n",
      " 'package com.automation.tests;\\n'\n",
      " '\\n'\n",
      " 'import com.automation.library.ApiClient;\\n'\n",
      " 'import io.restassured.response.Response;\\n'\n",
      " 'import org.junit.jupiter.api.BeforeAll;\\n'\n",
      " 'import org.junit.jupiter.api.DisplayName;\\n'\n",
      " 'import org.junit.jupiter.api.Test;\\n'\n",
      " 'import static org.junit.jupiter.api.Assertions.assertTrue;\\n'\n",
      " '\\n'\n",
      " 'public class ObjectApiTest {\\n'\n",
      " '\\n'\n",
      " '    private static ApiClient apiClient;\\n'\n",
      " '    private static final String BASE_URL = \"https://api.restful-api.dev\";\\n'\n",
      " '    private static final String OBJECTS_ENDPOINT = \"/objects\";\\n'\n",
      " '\\n'\n",
      " '    @BeforeAll\\n'\n",
      " '    static void setup() {\\n'\n",
      " '        apiClient = new ApiClient(BASE_URL);\\n'\n",
      " '    }\\n'\n",
      " '\\n'\n",
      " '    @Test\\n'\n",
      " '    @DisplayName(\"Verify GET /objects returns status code 200\")\\n'\n",
      " '    void testGetObjectsStatusCode() {\\n'\n",
      " '        Response response = apiClient.get(OBJECTS_ENDPOINT);\\n'\n",
      " '        boolean isStatusCodeValid = apiClient.validateStatusCode(response, '\n",
      " '200);\\n'\n",
      " '        assertTrue(isStatusCodeValid, \"Expected status code 200, but got \" + '\n",
      " 'response.getStatusCode());\\n'\n",
      " '    }\\n'\n",
      " '}\\n'\n",
      " '```')\n"
     ]
    }
   ],
   "source": [
    "pprint.pprint(result)"
   ]
  }
 ],
 "metadata": {
  "kernelspec": {
   "display_name": "venv",
   "language": "python",
   "name": "python3"
  },
  "language_info": {
   "codemirror_mode": {
    "name": "ipython",
    "version": 3
   },
   "file_extension": ".py",
   "mimetype": "text/x-python",
   "name": "python",
   "nbconvert_exporter": "python",
   "pygments_lexer": "ipython3",
   "version": "3.13.5"
  }
 },
 "nbformat": 4,
 "nbformat_minor": 5
}
